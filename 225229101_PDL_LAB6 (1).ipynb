{
 "cells": [
  {
   "cell_type": "markdown",
   "id": "f5dbb996",
   "metadata": {},
   "source": [
    "### LAB6 : Multi-class Classification of Fashion Apparels using DNN"
   ]
  },
  {
   "cell_type": "markdown",
   "id": "044e3947",
   "metadata": {},
   "source": [
    "##### NAME : ANNAPOORNIMA S\n",
    "##### 225229101"
   ]
  },
  {
   "cell_type": "markdown",
   "id": "95f0c9fe",
   "metadata": {},
   "source": [
    "## Steps"
   ]
  },
  {
   "cell_type": "markdown",
   "id": "26270327",
   "metadata": {},
   "source": [
    "### 1.Open fashion_mnist dataset from keras"
   ]
  },
  {
   "cell_type": "code",
   "execution_count": 2,
   "id": "44ac84a0",
   "metadata": {},
   "outputs": [],
   "source": [
    "import tensorflow as tf\n",
    "import keras\n",
    "import pandas as pd\n",
    "import numpy as np\n",
    "import matplotlib.pyplot as plt\n",
    "from matplotlib.pyplot import figure\n",
    "from sklearn.model_selection import train_test_split\n",
    "from tensorflow.keras.models import Sequential\n",
    "from tensorflow.keras.layers import Dense,Flatten"
   ]
  },
  {
   "cell_type": "code",
   "execution_count": 3,
   "id": "f2850a75",
   "metadata": {},
   "outputs": [],
   "source": [
    "(x_train, y_train), (x_test, y_test) = tf.keras.datasets.fashion_mnist.load_data()"
   ]
  },
  {
   "cell_type": "markdown",
   "id": "f1390e78",
   "metadata": {},
   "source": [
    "### 2. Perform basic EDA"
   ]
  },
  {
   "cell_type": "code",
   "execution_count": 4,
   "id": "cd7412aa",
   "metadata": {},
   "outputs": [
    {
     "name": "stdout",
     "output_type": "stream",
     "text": [
      "x_train shape:  (60000, 28, 28)        x_train size:  47040000\n",
      "y_train shape:  (60000,)               y_train size:  60000\n"
     ]
    }
   ],
   "source": [
    "print('x_train shape: ',x_train.shape,'       ''x_train size: ',x_train.size)\n",
    "print('y_train shape: ',y_train.shape,'              ''y_train size: ',y_train.size)"
   ]
  },
  {
   "cell_type": "code",
   "execution_count": 11,
   "id": "719fb277",
   "metadata": {},
   "outputs": [
    {
     "data": {
      "image/png": "[encoded data removed]",
      "text/plain": [
       "<Figure size 480x480 with 1 Axes>"
      ]
     },
     "metadata": {},
     "output_type": "display_data"
    }
   ],
   "source": [
    "plt.matshow(x_train[42])\n",
    "plt.show()"
   ]
  },
  {
   "cell_type": "markdown",
   "id": "ed873ccb",
   "metadata": {},
   "source": [
    "### 3.Normalize"
   ]
  },
  {
   "cell_type": "code",
   "execution_count": 5,
   "id": "cc6563f9",
   "metadata": {},
   "outputs": [],
   "source": [
    "X_train = x_train.astype('float32')/255\n",
    "X_test = x_test.astype('float32')/255"
   ]
  },
  {
   "cell_type": "code",
   "execution_count": 6,
   "id": "d83338db",
   "metadata": {},
   "outputs": [
    {
     "data": {
      "text/plain": [
       "array([[0.        , 0.        , 0.        , 0.00392157, 0.        ,\n",
       "        0.        , 0.        , 0.        , 0.        , 0.13333334,\n",
       "        0.5803922 , 0.7921569 , 0.41960785, 0.32941177, 0.63529414,\n",
       "        0.7764706 , 0.3529412 , 0.10196079, 0.        , 0.        ,\n",
       "        0.        , 0.        , 0.        , 0.        , 0.        ,\n",
       "        0.        , 0.        , 0.        ],\n",
       "       [0.        , 0.        , 0.        , 0.        , 0.        ,\n",
       "        0.        , 0.08235294, 0.41960785, 0.6509804 , 0.65882355,\n",
       "        0.59607846, 0.8       , 0.93333334, 0.972549  , 0.92941177,\n",
       "        0.74509805, 0.5568628 , 0.69803923, 0.61960787, 0.38431373,\n",
       "        0.06666667, 0.        , 0.        , 0.        , 0.        ,\n",
       "        0.        , 0.        , 0.        ],\n",
       "       [0.        , 0.        , 0.        , 0.00392157, 0.        ,\n",
       "        0.21568628, 0.7372549 , 0.54901963, 0.5137255 , 0.4745098 ,\n",
       "        0.46666667, 0.45490196, 0.57254905, 0.6156863 , 0.5176471 ,\n",
       "        0.4509804 , 0.53333336, 0.49019608, 0.54901963, 0.56078434,\n",
       "        0.70980394, 0.2       , 0.        , 0.        , 0.        ,\n",
       "        0.        , 0.        , 0.        ],\n",
       "       [0.        , 0.        , 0.        , 0.        , 0.        ,\n",
       "        0.654902  , 0.5254902 , 0.44313726, 0.50980395, 0.5254902 ,\n",
       "        0.54901963, 0.5176471 , 0.49019608, 0.49019608, 0.5137255 ,\n",
       "        0.5294118 , 0.50980395, 0.52156866, 0.5137255 , 0.4509804 ,\n",
       "        0.5294118 , 0.6392157 , 0.02352941, 0.        , 0.        ,\n",
       "        0.        , 0.        , 0.        ],\n",
       "       [0.        , 0.        , 0.        , 0.        , 0.22745098,\n",
       "        0.5803922 , 0.52156866, 0.4862745 , 0.5254902 , 0.5019608 ,\n",
       "        0.5294118 , 0.5019608 , 0.52156866, 0.50980395, 0.52156866,\n",
       "        0.5372549 , 0.5411765 , 0.50980395, 0.4862745 , 0.50980395,\n",
       "        0.52156866, 0.5764706 , 0.32156864, 0.        , 0.00392157,\n",
       "        0.        , 0.        , 0.        ],\n",
       "       [0.        , 0.        , 0.        , 0.        , 0.3372549 ,\n",
       "        0.5803922 , 0.61960787, 0.54509807, 0.4862745 , 0.47058824,\n",
       "        0.5137255 , 0.5254902 , 0.5176471 , 0.5254902 , 0.4862745 ,\n",
       "        0.5254902 , 0.5176471 , 0.5372549 , 0.49411765, 0.5372549 ,\n",
       "        0.53333336, 0.57254905, 0.44705883, 0.        , 0.        ,\n",
       "        0.        , 0.        , 0.        ],\n",
       "       [0.        , 0.        , 0.        , 0.        , 0.4392157 ,\n",
       "        0.5529412 , 0.68235296, 0.56078434, 0.45882353, 0.5254902 ,\n",
       "        0.50980395, 0.5019608 , 0.5137255 , 0.53333336, 0.5254902 ,\n",
       "        0.5019608 , 0.5019608 , 0.5137255 , 0.41568628, 0.73333335,\n",
       "        0.58431375, 0.5764706 , 0.56078434, 0.        , 0.        ,\n",
       "        0.        , 0.        , 0.        ],\n",
       "       [0.        , 0.        , 0.        , 0.        , 0.5254902 ,\n",
       "        0.5921569 , 0.654902  , 0.6039216 , 0.44705883, 0.5254902 ,\n",
       "        0.5411765 , 0.54509807, 0.5294118 , 0.5294118 , 0.50980395,\n",
       "        0.50980395, 0.4862745 , 0.5058824 , 0.46666667, 0.8980392 ,\n",
       "        0.5529412 , 0.5686275 , 0.6431373 , 0.        , 0.        ,\n",
       "        0.        , 0.        , 0.        ],\n",
       "       [0.        , 0.        , 0.        , 0.        , 0.53333336,\n",
       "        0.6039216 , 0.6627451 , 0.6156863 , 0.42745098, 0.5764706 ,\n",
       "        0.54901963, 0.5372549 , 0.5372549 , 0.53333336, 0.5568628 ,\n",
       "        0.5529412 , 0.54509807, 0.5058824 , 0.48235294, 0.7882353 ,\n",
       "        0.57254905, 0.5411765 , 0.6745098 , 0.08235294, 0.        ,\n",
       "        0.        , 0.        , 0.        ],\n",
       "       [0.        , 0.        , 0.        , 0.        , 0.5686275 ,\n",
       "        0.61960787, 0.67058825, 0.6862745 , 0.43529412, 0.53333336,\n",
       "        0.5686275 , 0.53333336, 0.5294118 , 0.5411765 , 0.5372549 ,\n",
       "        0.56078434, 0.57254905, 0.54901963, 0.47843137, 0.72156864,\n",
       "        0.654902  , 0.53333336, 0.6666667 , 0.22745098, 0.        ,\n",
       "        0.        , 0.        , 0.        ],\n",
       "       [0.        , 0.        , 0.        , 0.        , 0.5921569 ,\n",
       "        0.60784316, 0.7411765 , 0.7176471 , 0.47058824, 0.5294118 ,\n",
       "        0.5176471 , 0.53333336, 0.5294118 , 0.52156866, 0.5019608 ,\n",
       "        0.50980395, 0.5254902 , 0.47058824, 0.6       , 0.9019608 ,\n",
       "        0.6117647 , 0.5294118 , 0.654902  , 0.3254902 , 0.        ,\n",
       "        0.        , 0.        , 0.        ],\n",
       "       [0.        , 0.        , 0.        , 0.00392157, 0.6509804 ,\n",
       "        0.5921569 , 0.8156863 , 0.6862745 , 0.45490196, 0.5568628 ,\n",
       "        0.5647059 , 0.5411765 , 0.58431375, 0.52156866, 0.5137255 ,\n",
       "        0.5372549 , 0.54901963, 0.46666667, 0.49411765, 0.80784315,\n",
       "        0.7764706 , 0.5529412 , 0.6509804 , 0.39607844, 0.        ,\n",
       "        0.        , 0.        , 0.        ],\n",
       "       [0.        , 0.        , 0.        , 0.02352941, 0.6627451 ,\n",
       "        0.57254905, 0.92941177, 0.73333335, 0.40784314, 0.5137255 ,\n",
       "        0.53333336, 0.58431375, 0.5764706 , 0.5372549 , 0.5372549 ,\n",
       "        0.5372549 , 0.5176471 , 0.5372549 , 0.44313726, 0.6509804 ,\n",
       "        0.80784315, 0.5921569 , 0.63529414, 0.49411765, 0.        ,\n",
       "        0.        , 0.        , 0.        ],\n",
       "       [0.        , 0.        , 0.        , 0.07843138, 0.7058824 ,\n",
       "        0.53333336, 0.90588236, 0.8392157 , 0.4117647 , 0.5254902 ,\n",
       "        0.54901963, 0.54509807, 0.53333336, 0.5372549 , 0.53333336,\n",
       "        0.5803922 , 0.5254902 , 0.58431375, 0.43529412, 0.54509807,\n",
       "        1.        , 0.5921569 , 0.61960787, 0.5764706 , 0.        ,\n",
       "        0.        , 0.        , 0.        ],\n",
       "       [0.        , 0.        , 0.        , 0.12941177, 0.72156864,\n",
       "        0.42745098, 0.8509804 , 0.7137255 , 0.4117647 , 0.4862745 ,\n",
       "        0.56078434, 0.5137255 , 0.5294118 , 0.5372549 , 0.54509807,\n",
       "        0.5411765 , 0.5137255 , 0.5568628 , 0.5176471 , 0.3882353 ,\n",
       "        0.9764706 , 0.63529414, 0.6156863 , 0.6745098 , 0.        ,\n",
       "        0.        , 0.        , 0.        ],\n",
       "       [0.        , 0.        , 0.        , 0.13725491, 0.7058824 ,\n",
       "        0.4392157 , 0.9137255 , 0.56078434, 0.42745098, 0.52156866,\n",
       "        0.5686275 , 0.57254905, 0.5568628 , 0.5568628 , 0.54509807,\n",
       "        0.5529412 , 0.5294118 , 0.5529412 , 0.59607846, 0.39607844,\n",
       "        0.8039216 , 0.6392157 , 0.6039216 , 0.6666667 , 0.        ,\n",
       "        0.        , 0.        , 0.        ],\n",
       "       [0.        , 0.        , 0.        , 0.16470589, 0.7176471 ,\n",
       "        0.48235294, 0.8509804 , 0.45882353, 0.49411765, 0.5372549 ,\n",
       "        0.54901963, 0.5254902 , 0.5372549 , 0.5294118 , 0.56078434,\n",
       "        0.5529412 , 0.52156866, 0.52156866, 0.58431375, 0.41960785,\n",
       "        0.6509804 , 0.6901961 , 0.6       , 0.6627451 , 0.05490196,\n",
       "        0.        , 0.        , 0.        ],\n",
       "       [0.        , 0.        , 0.        , 0.1882353 , 0.6862745 ,\n",
       "        0.5764706 , 0.8235294 , 0.39607844, 0.46666667, 0.53333336,\n",
       "        0.5568628 , 0.5372549 , 0.5568628 , 0.54509807, 0.5764706 ,\n",
       "        0.5568628 , 0.57254905, 0.49411765, 0.5411765 , 0.4       ,\n",
       "        0.5137255 , 0.77254903, 0.6313726 , 0.7176471 , 0.1254902 ,\n",
       "        0.        , 0.        , 0.        ],\n",
       "       [0.        , 0.        , 0.        , 0.21960784, 0.64705884,\n",
       "        0.6392157 , 0.8352941 , 0.2901961 , 0.49411765, 0.5411765 ,\n",
       "        0.58431375, 0.52156866, 0.52156866, 0.5176471 , 0.5529412 ,\n",
       "        0.5254902 , 0.5568628 , 0.5176471 , 0.5176471 , 0.49411765,\n",
       "        0.45882353, 0.75686276, 0.63529414, 0.6745098 , 0.15294118,\n",
       "        0.        , 0.        , 0.        ],\n",
       "       [0.        , 0.        , 0.        , 0.24313726, 0.6156863 ,\n",
       "        0.64705884, 0.8901961 , 0.15294118, 0.5294118 , 0.5411765 ,\n",
       "        0.53333336, 0.5568628 , 0.57254905, 0.56078434, 0.53333336,\n",
       "        0.5411765 , 0.5254902 , 0.5529412 , 0.5254902 , 0.45490196,\n",
       "        0.30588236, 0.77254903, 0.67058825, 0.6117647 , 0.17254902,\n",
       "        0.        , 0.        , 0.        ],\n",
       "       [0.        , 0.        , 0.        , 0.25490198, 0.63529414,\n",
       "        0.6627451 , 0.9607843 , 0.15294118, 0.54901963, 0.52156866,\n",
       "        0.52156866, 0.5019608 , 0.5176471 , 0.5254902 , 0.56078434,\n",
       "        0.5686275 , 0.5254902 , 0.52156866, 0.5254902 , 0.5019608 ,\n",
       "        0.14117648, 0.8156863 , 0.6745098 , 0.5921569 , 0.21568628,\n",
       "        0.        , 0.        , 0.        ],\n",
       "       [0.        , 0.        , 0.        , 0.28235295, 0.5764706 ,\n",
       "        0.65882355, 0.95686275, 0.09803922, 0.5568628 , 0.5372549 ,\n",
       "        0.5411765 , 0.52156866, 0.5019608 , 0.5176471 , 0.5764706 ,\n",
       "        0.5686275 , 0.5294118 , 0.53333336, 0.52156866, 0.5137255 ,\n",
       "        0.10196079, 0.8117647 , 0.6784314 , 0.58431375, 0.2627451 ,\n",
       "        0.        , 0.        , 0.        ],\n",
       "       [0.        , 0.        , 0.        , 0.26666668, 0.6       ,\n",
       "        0.7019608 , 0.98039216, 0.04313726, 0.5294118 , 0.5254902 ,\n",
       "        0.54509807, 0.52156866, 0.53333336, 0.54901963, 0.54901963,\n",
       "        0.56078434, 0.5686275 , 0.54901963, 0.5137255 , 0.49411765,\n",
       "        0.1254902 , 0.8117647 , 0.6862745 , 0.53333336, 0.28627452,\n",
       "        0.        , 0.        , 0.        ],\n",
       "       [0.        , 0.        , 0.        , 0.23921569, 0.60784316,\n",
       "        0.7058824 , 0.9882353 , 0.09019608, 0.5921569 , 0.5176471 ,\n",
       "        0.5137255 , 0.52156866, 0.52156866, 0.5058824 , 0.5294118 ,\n",
       "        0.54901963, 0.5176471 , 0.54509807, 0.5176471 , 0.54509807,\n",
       "        0.14901961, 0.8666667 , 0.68235296, 0.5294118 , 0.3019608 ,\n",
       "        0.        , 0.        , 0.        ],\n",
       "       [0.        , 0.        , 0.        , 0.07058824, 0.5764706 ,\n",
       "        0.73333335, 0.7254902 , 0.01176471, 0.6784314 , 0.6       ,\n",
       "        0.5921569 , 0.5882353 , 0.6       , 0.5882353 , 0.5882353 ,\n",
       "        0.6       , 0.5803922 , 0.5921569 , 0.57254905, 0.6313726 ,\n",
       "        0.01568628, 0.72156864, 0.6862745 , 0.53333336, 0.14509805,\n",
       "        0.        , 0.        , 0.        ],\n",
       "       [0.        , 0.        , 0.        , 0.        , 0.5882353 ,\n",
       "        0.8       , 0.29803923, 0.        , 0.8352941 , 0.64705884,\n",
       "        0.654902  , 0.6666667 , 0.6745098 , 0.67058825, 0.6627451 ,\n",
       "        0.6666667 , 0.6745098 , 0.654902  , 0.627451  , 0.7921569 ,\n",
       "        0.        , 0.41960785, 0.76862746, 0.59607846, 0.        ,\n",
       "        0.        , 0.        , 0.        ],\n",
       "       [0.        , 0.        , 0.        , 0.        , 0.48235294,\n",
       "        0.63529414, 0.16078432, 0.00784314, 0.6       , 0.4862745 ,\n",
       "        0.52156866, 0.53333336, 0.5529412 , 0.5294118 , 0.5176471 ,\n",
       "        0.5254902 , 0.54509807, 0.5647059 , 0.5529412 , 0.5176471 ,\n",
       "        0.        , 0.2627451 , 0.6       , 0.5568628 , 0.        ,\n",
       "        0.        , 0.        , 0.        ],\n",
       "       [0.        , 0.        , 0.        , 0.        , 0.        ,\n",
       "        0.        , 0.        , 0.        , 0.        , 0.        ,\n",
       "        0.        , 0.        , 0.        , 0.        , 0.        ,\n",
       "        0.        , 0.        , 0.        , 0.        , 0.        ,\n",
       "        0.        , 0.        , 0.        , 0.        , 0.        ,\n",
       "        0.        , 0.        , 0.        ]], dtype=float32)"
      ]
     },
     "execution_count": 6,
     "metadata": {},
     "output_type": "execute_result"
    }
   ],
   "source": [
    "X_train[45]"
   ]
  },
  {
   "cell_type": "markdown",
   "id": "8c8438fe",
   "metadata": {},
   "source": [
    "### 4.Build a simple baseline model"
   ]
  },
  {
   "cell_type": "code",
   "execution_count": 7,
   "id": "209a472f",
   "metadata": {},
   "outputs": [],
   "source": [
    "model=Sequential()\n",
    "model.add(Flatten(input_shape=(28, 28)))\n",
    "model.add(Dense(512,input_dim=1,activation='relu'))\n",
    "model.add(Dense(10,activation='softmax'))\n",
    "\n",
    "model.compile(loss='mean_squared_error',\n",
    "              optimizer='RMSprop',\n",
    "              metrics=['accuracy'])\n"
   ]
  },
  {
   "cell_type": "code",
   "execution_count": 8,
   "id": "7dfbadaa",
   "metadata": {},
   "outputs": [
    {
     "name": "stdout",
     "output_type": "stream",
     "text": [
      "Epoch 1/10\n",
      "1875/1875 [==============================] - 10s 5ms/step - loss: 27.6105 - accuracy: 0.1006\n",
      "Epoch 2/10\n",
      "1875/1875 [==============================] - 9s 5ms/step - loss: 27.6101 - accuracy: 0.1010\n",
      "Epoch 3/10\n",
      "1875/1875 [==============================] - 8s 4ms/step - loss: 27.6101 - accuracy: 0.0985\n",
      "Epoch 4/10\n",
      "1875/1875 [==============================] - 8s 4ms/step - loss: 27.6101 - accuracy: 0.1010\n",
      "Epoch 5/10\n",
      "1875/1875 [==============================] - 8s 4ms/step - loss: 27.6101 - accuracy: 0.0989\n",
      "Epoch 6/10\n",
      "1875/1875 [==============================] - 8s 4ms/step - loss: 27.6101 - accuracy: 0.0997\n",
      "Epoch 7/10\n",
      "1875/1875 [==============================] - 8s 4ms/step - loss: 27.6101 - accuracy: 0.0995\n",
      "Epoch 8/10\n",
      "1875/1875 [==============================] - 8s 4ms/step - loss: 27.6101 - accuracy: 0.0989\n",
      "Epoch 9/10\n",
      "1875/1875 [==============================] - 8s 4ms/step - loss: 27.6101 - accuracy: 0.0992\n",
      "Epoch 10/10\n",
      "1875/1875 [==============================] - 8s 4ms/step - loss: 27.6101 - accuracy: 0.0980\n"
     ]
    },
    {
     "data": {
      "text/plain": [
       "<keras.callbacks.History at 0x22ce424de80>"
      ]
     },
     "execution_count": 8,
     "metadata": {},
     "output_type": "execute_result"
    }
   ],
   "source": [
    "model.fit(X_train,y_train,epochs=10)"
   ]
  },
  {
   "cell_type": "code",
   "execution_count": 9,
   "id": "179022c4",
   "metadata": {
    "scrolled": true
   },
   "outputs": [
    {
     "name": "stdout",
     "output_type": "stream",
     "text": [
      "Model: \"sequential\"\n",
      "_________________________________________________________________\n",
      " Layer (type)                Output Shape              Param #   \n",
      "=================================================================\n",
      " flatten (Flatten)           (None, 784)               0         \n",
      "                                                                 \n",
      " dense (Dense)               (None, 512)               401920    \n",
      "                                                                 \n",
      " dense_1 (Dense)             (None, 10)                5130      \n",
      "                                                                 \n",
      "=================================================================\n",
      "Total params: 407,050\n",
      "Trainable params: 407,050\n",
      "Non-trainable params: 0\n",
      "_________________________________________________________________\n"
     ]
    }
   ],
   "source": [
    "model.summary()"
   ]
  },
  {
   "cell_type": "markdown",
   "id": "9d32f22c",
   "metadata": {},
   "source": [
    "### 5. Performance Analysis"
   ]
  },
  {
   "cell_type": "code",
   "execution_count": 10,
   "id": "9534782d",
   "metadata": {},
   "outputs": [],
   "source": [
    "model=Sequential()\n",
    "model.add(Flatten(input_shape=(28, 28)))\n",
    "model.add(Dense(128,activation='relu'))\n",
    "model.add(Dense(128,activation='relu'))\n",
    "model.add(Dense(10,activation='softmax'))\n",
    "\n",
    "model.compile(loss='mean_squared_error',\n",
    "              optimizer='RMSprop',\n",
    "              metrics='accuracy')\n"
   ]
  },
  {
   "cell_type": "code",
   "execution_count": 11,
   "id": "2cd9b2ca",
   "metadata": {},
   "outputs": [
    {
     "name": "stdout",
     "output_type": "stream",
     "text": [
      "Epoch 1/10\n",
      "1875/1875 [==============================] - 4s 2ms/step - loss: 27.6101 - accuracy: 0.0991\n",
      "Epoch 2/10\n",
      "1875/1875 [==============================] - 5s 3ms/step - loss: 27.6101 - accuracy: 0.0977\n",
      "Epoch 3/10\n",
      "1875/1875 [==============================] - 5s 3ms/step - loss: 27.6101 - accuracy: 0.1001\n",
      "Epoch 4/10\n",
      "1875/1875 [==============================] - 3s 1ms/step - loss: 27.6101 - accuracy: 0.0986\n",
      "Epoch 5/10\n",
      "1875/1875 [==============================] - 2s 1ms/step - loss: 27.6101 - accuracy: 0.0989\n",
      "Epoch 6/10\n",
      "1875/1875 [==============================] - 2s 1ms/step - loss: 27.6101 - accuracy: 0.0996\n",
      "Epoch 7/10\n",
      "1875/1875 [==============================] - 2s 1ms/step - loss: 27.6101 - accuracy: 0.0997\n",
      "Epoch 8/10\n",
      "1875/1875 [==============================] - 2s 1ms/step - loss: 27.6101 - accuracy: 0.0994\n",
      "Epoch 9/10\n",
      "1875/1875 [==============================] - 3s 1ms/step - loss: 27.6101 - accuracy: 0.0997\n",
      "Epoch 10/10\n",
      "1875/1875 [==============================] - 2s 1ms/step - loss: 27.6101 - accuracy: 0.1001\n"
     ]
    },
    {
     "data": {
      "text/plain": [
       "<keras.callbacks.History at 0x22ce4f3b730>"
      ]
     },
     "execution_count": 11,
     "metadata": {},
     "output_type": "execute_result"
    }
   ],
   "source": [
    "model.fit(X_train,y_train,epochs=10)"
   ]
  },
  {
   "cell_type": "code",
   "execution_count": 12,
   "id": "fe459bcb",
   "metadata": {},
   "outputs": [],
   "source": [
    "model=Sequential()\n",
    "model.add(Flatten(input_shape=(28, 28)))\n",
    "model.add(Dense(256,input_dim=1,activation='relu'))\n",
    "model.add(Dense(256,input_dim=1,activation='relu'))\n",
    "model.add(Dense(10,activation='softmax'))\n",
    "\n",
    "model.compile(loss='mean_squared_error',\n",
    "              optimizer='RMSprop',\n",
    "              metrics=['accuracy'])\n"
   ]
  },
  {
   "cell_type": "code",
   "execution_count": 13,
   "id": "66591e4a",
   "metadata": {},
   "outputs": [
    {
     "name": "stdout",
     "output_type": "stream",
     "text": [
      "Epoch 1/10\n",
      "1875/1875 [==============================] - 5s 2ms/step - loss: 27.6101 - accuracy: 0.1011\n",
      "Epoch 2/10\n",
      "1875/1875 [==============================] - 8s 4ms/step - loss: 27.6101 - accuracy: 0.0988\n",
      "Epoch 3/10\n",
      "1875/1875 [==============================] - 6s 3ms/step - loss: 27.6101 - accuracy: 0.1002\n",
      "Epoch 4/10\n",
      "1875/1875 [==============================] - 4s 2ms/step - loss: 27.6101 - accuracy: 0.0996\n",
      "Epoch 5/10\n",
      "1875/1875 [==============================] - 4s 2ms/step - loss: 27.6100 - accuracy: 0.1003\n",
      "Epoch 6/10\n",
      "1875/1875 [==============================] - 4s 2ms/step - loss: 27.6101 - accuracy: 0.0981\n",
      "Epoch 7/10\n",
      "1875/1875 [==============================] - 4s 2ms/step - loss: 27.6101 - accuracy: 0.0996\n",
      "Epoch 8/10\n",
      "1875/1875 [==============================] - 4s 2ms/step - loss: 27.6101 - accuracy: 0.0988\n",
      "Epoch 9/10\n",
      "1875/1875 [==============================] - 4s 2ms/step - loss: 27.6101 - accuracy: 0.0982\n",
      "Epoch 10/10\n",
      "1875/1875 [==============================] - 4s 2ms/step - loss: 27.6102 - accuracy: 0.0985\n"
     ]
    },
    {
     "data": {
      "text/plain": [
       "<keras.callbacks.History at 0x22ce4e95e80>"
      ]
     },
     "execution_count": 13,
     "metadata": {},
     "output_type": "execute_result"
    }
   ],
   "source": [
    "model.fit(X_train,y_train,epochs=10)"
   ]
  },
  {
   "cell_type": "code",
   "execution_count": 14,
   "id": "5cfaa024",
   "metadata": {},
   "outputs": [],
   "source": [
    "model=Sequential()\n",
    "model.add(Flatten(input_shape=(28, 28)))\n",
    "model.add(Dense(512,input_dim=1,activation='relu'))\n",
    "model.add(Dense(512,input_dim=1,activation='relu'))\n",
    "model.add(Dense(10,activation='softmax'))\n",
    "\n",
    "model.compile(loss='mean_squared_error',\n",
    "              optimizer='RMSprop',\n",
    "              metrics=['accuracy'])\n"
   ]
  },
  {
   "cell_type": "code",
   "execution_count": 15,
   "id": "897b27f4",
   "metadata": {},
   "outputs": [
    {
     "name": "stdout",
     "output_type": "stream",
     "text": [
      "Epoch 1/10\n",
      "1875/1875 [==============================] - 14s 7ms/step - loss: 27.6103 - accuracy: 0.0983\n",
      "Epoch 2/10\n",
      "1875/1875 [==============================] - 14s 7ms/step - loss: 27.6101 - accuracy: 0.0997\n",
      "Epoch 3/10\n",
      "1875/1875 [==============================] - 14s 7ms/step - loss: 27.6101 - accuracy: 0.1007\n",
      "Epoch 4/10\n",
      "1875/1875 [==============================] - 14s 7ms/step - loss: 27.6101 - accuracy: 0.0994\n",
      "Epoch 5/10\n",
      "1875/1875 [==============================] - 14s 7ms/step - loss: 27.6101 - accuracy: 0.1008\n",
      "Epoch 6/10\n",
      "1875/1875 [==============================] - 14s 7ms/step - loss: 27.6101 - accuracy: 0.1004\n",
      "Epoch 7/10\n",
      "1875/1875 [==============================] - 14s 8ms/step - loss: 27.6101 - accuracy: 0.0984\n",
      "Epoch 8/10\n",
      "1875/1875 [==============================] - 14s 8ms/step - loss: 27.6101 - accuracy: 0.1018\n",
      "Epoch 9/10\n",
      "1875/1875 [==============================] - 14s 7ms/step - loss: 27.6101 - accuracy: 0.0971\n",
      "Epoch 10/10\n",
      "1875/1875 [==============================] - 15s 8ms/step - loss: 27.6101 - accuracy: 0.0985\n"
     ]
    },
    {
     "data": {
      "text/plain": [
       "<keras.callbacks.History at 0x22ce5123700>"
      ]
     },
     "execution_count": 15,
     "metadata": {},
     "output_type": "execute_result"
    }
   ],
   "source": [
    "model.fit(X_train,y_train,epochs=10)"
   ]
  },
  {
   "cell_type": "code",
   "execution_count": null,
   "id": "c0ec25fd",
   "metadata": {},
   "outputs": [],
   "source": []
  },
  {
   "cell_type": "code",
   "execution_count": 16,
   "id": "a9d084e9",
   "metadata": {},
   "outputs": [],
   "source": [
    "X_train, X_val, y_train, y_val = train_test_split(X_train, y_train, test_size=0.2, random_state=1)"
   ]
  },
  {
   "cell_type": "code",
   "execution_count": 17,
   "id": "8b1a152a",
   "metadata": {},
   "outputs": [
    {
     "name": "stdout",
     "output_type": "stream",
     "text": [
      "Epoch 1/10\n",
      "1500/1500 [==============================] - 12s 8ms/step - loss: 27.5856 - accuracy: 0.0981 - val_loss: 27.7079 - val_accuracy: 0.0979\n",
      "Epoch 2/10\n",
      "1500/1500 [==============================] - 12s 8ms/step - loss: 27.5856 - accuracy: 0.0982 - val_loss: 27.7079 - val_accuracy: 0.1004\n",
      "Epoch 3/10\n",
      "1500/1500 [==============================] - 12s 8ms/step - loss: 27.5856 - accuracy: 0.0984 - val_loss: 27.7079 - val_accuracy: 0.1028\n",
      "Epoch 4/10\n",
      "1500/1500 [==============================] - 12s 8ms/step - loss: 27.5856 - accuracy: 0.1009 - val_loss: 27.7079 - val_accuracy: 0.0969\n",
      "Epoch 5/10\n",
      "1500/1500 [==============================] - 12s 8ms/step - loss: 27.5856 - accuracy: 0.1020 - val_loss: 27.7079 - val_accuracy: 0.0967\n",
      "Epoch 6/10\n",
      "1500/1500 [==============================] - 12s 8ms/step - loss: 27.5856 - accuracy: 0.1014 - val_loss: 27.7079 - val_accuracy: 0.0967\n",
      "Epoch 7/10\n",
      "1500/1500 [==============================] - 12s 8ms/step - loss: 27.5856 - accuracy: 0.0993 - val_loss: 27.7079 - val_accuracy: 0.1027\n",
      "Epoch 8/10\n",
      "1500/1500 [==============================] - 12s 8ms/step - loss: 27.5856 - accuracy: 0.1007 - val_loss: 27.7079 - val_accuracy: 0.1027\n",
      "Epoch 9/10\n",
      "1500/1500 [==============================] - 12s 8ms/step - loss: 27.5856 - accuracy: 0.1020 - val_loss: 27.7079 - val_accuracy: 0.1004\n",
      "Epoch 10/10\n",
      "1500/1500 [==============================] - 12s 8ms/step - loss: 27.5856 - accuracy: 0.1009 - val_loss: 27.7079 - val_accuracy: 0.1006\n"
     ]
    }
   ],
   "source": [
    "history = model.fit(X_train,y_train,epochs=10,validation_data=(X_val, y_val))"
   ]
  },
  {
   "cell_type": "code",
   "execution_count": 18,
   "id": "d6fe87e4",
   "metadata": {},
   "outputs": [
    {
     "name": "stdout",
     "output_type": "stream",
     "text": [
      "dict_keys(['loss', 'accuracy', 'val_loss', 'val_accuracy'])\n"
     ]
    },
    {
     "data": {
      "image/png": "[encoded data removed]",
      "text/plain": [
       "<Figure size 720x288 with 1 Axes>"
      ]
     },
     "metadata": {
      "needs_background": "light"
     },
     "output_type": "display_data"
    }
   ],
   "source": [
    "\n",
    "print(history.history.keys())\n",
    "\n",
    "\n",
    "figure(figsize=(10, 4))\n",
    "plt.plot(history.history['accuracy'])\n",
    "plt.plot(history.history['val_accuracy'])\n",
    "plt.title('model accuracy')\n",
    "plt.ylabel('accuracy')\n",
    "plt.xlabel('epoch')\n",
    "plt.legend(['train', 'test'], loc='upper left')\n",
    "plt.show()"
   ]
  },
  {
   "cell_type": "code",
   "execution_count": null,
   "id": "ba67c71d",
   "metadata": {},
   "outputs": [],
   "source": []
  }
 ],
 "metadata": {
  "kernelspec": {
   "display_name": "Python 3 (ipykernel)",
   "language": "python",
   "name": "python3"
  },
  "language_info": {
   "codemirror_mode": {
    "name": "ipython",
    "version": 3
   },
   "file_extension": ".py",
   "mimetype": "text/x-python",
   "name": "python",
   "nbconvert_exporter": "python",
   "pygments_lexer": "ipython3",
   "version": "3.10.12"
  }
 },
 "nbformat": 4,
 "nbformat_minor": 5
}
