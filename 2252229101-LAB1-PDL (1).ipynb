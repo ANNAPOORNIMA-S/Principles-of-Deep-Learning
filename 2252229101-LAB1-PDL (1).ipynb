{
 "cells": [
  {
   "cell_type": "markdown",
   "metadata": {},
   "source": [
    "### ANNAPOORNIMA S\n",
    "## 225229101"
   ]
  },
  {
   "cell_type": "markdown",
   "metadata": {},
   "source": [
    "## Part-I: Write a method for sigmoid function"
   ]
  },
  {
   "cell_type": "markdown",
   "metadata": {},
   "source": [
    "###  1. Write a function, mysigmoid(x), that takes the real number x and returns the sigmoid value using math.exp()."
   ]
  },
  {
   "cell_type": "code",
   "execution_count": 1,
   "metadata": {},
   "outputs": [],
   "source": [
    "import math\n",
    "def mysigmoid(x):\n",
    "    return 1 / (1 + math.exp(-x))"
   ]
  },
  {
   "cell_type": "markdown",
   "metadata": {},
   "source": [
    "### 2.Call mysigmoid() with x=4 and print the sigmoid value of 4."
   ]
  },
  {
   "cell_type": "code",
   "execution_count": 4,
   "metadata": {},
   "outputs": [
    {
     "name": "stdout",
     "output_type": "stream",
     "text": [
      "0.9820137900379085\n"
     ]
    }
   ],
   "source": [
    "result = mysigmoid(4)\n",
    "print(result)"
   ]
  },
  {
   "cell_type": "markdown",
   "metadata": {},
   "source": [
    "### 3.Now, find the sigmoid values for x=[1, 2, 3]. Observe the results."
   ]
  },
  {
   "cell_type": "code",
   "execution_count": 7,
   "metadata": {},
   "outputs": [
    {
     "name": "stdout",
     "output_type": "stream",
     "text": [
      "[0.7310585786300049, 0.8807970779778823, 0.9525741268224334]\n"
     ]
    }
   ],
   "source": [
    "x = [1, 2, 3]\n",
    "\n",
    "sigmoid_values = [mysigmoid(val) for val in x]\n",
    "\n",
    "print(sigmoid_values)\n"
   ]
  },
  {
   "cell_type": "markdown",
   "metadata": {},
   "source": [
    "### 4. Rewrite mysigmoid() using np.exp() function."
   ]
  },
  {
   "cell_type": "code",
   "execution_count": 19,
   "metadata": {
    "scrolled": true
   },
   "outputs": [],
   "source": [
    "import numpy as np\n",
    "def mysigmoid(x):\n",
    "    return 1 / (1 + np.exp(-x))"
   ]
  },
  {
   "cell_type": "markdown",
   "metadata": {},
   "source": [
    "### 5. Now call your function with x=[1, 2, 3] and observe the results"
   ]
  },
  {
   "cell_type": "code",
   "execution_count": 20,
   "metadata": {},
   "outputs": [
    {
     "name": "stdout",
     "output_type": "stream",
     "text": [
      "sigmoid values for x=[1,2,3]: [0.7310585786300049, 0.8807970779778823, 0.9525741268224334]\n"
     ]
    }
   ],
   "source": [
    "x = [1, 2, 3]\n",
    "sig= [mysigmoid(val) for val in x]\n",
    "print(\"sigmoid values for x=[1,2,3]:\",sig)"
   ]
  },
  {
   "cell_type": "markdown",
   "metadata": {},
   "source": [
    "## Part-II: Gradient or derivative of sigmoid function"
   ]
  },
  {
   "cell_type": "code",
   "execution_count": 22,
   "metadata": {},
   "outputs": [
    {
     "name": "stdout",
     "output_type": "stream",
     "text": [
      "Gradient of sigmoid(4): 0.002466509291359931\n"
     ]
    }
   ],
   "source": [
    "def sig_derivative(s):\n",
    "    return s * (1 - s)\n",
    "x = 6\n",
    "sigm=mysigmoid(x)\n",
    "gradient = sig_derivative(sigm)\n",
    "print(\"Gradient of sigmoid(4):\", gradient)\n"
   ]
  },
  {
   "cell_type": "markdown",
   "metadata": {},
   "source": [
    "## Part-III: Write a method image_to_vector()"
   ]
  },
  {
   "cell_type": "code",
   "execution_count": 23,
   "metadata": {},
   "outputs": [
    {
     "name": "stdout",
     "output_type": "stream",
     "text": [
      "Vector shape: (18, 1)\n",
      "Vector:\n",
      "[[ 1]\n",
      " [ 2]\n",
      " [ 3]\n",
      " [ 4]\n",
      " [ 5]\n",
      " [ 6]\n",
      " [ 7]\n",
      " [ 8]\n",
      " [ 9]\n",
      " [10]\n",
      " [11]\n",
      " [12]\n",
      " [13]\n",
      " [14]\n",
      " [15]\n",
      " [16]\n",
      " [17]\n",
      " [18]]\n"
     ]
    }
   ],
   "source": [
    "#1\n",
    "import numpy as np\n",
    "\n",
    "def image_to_vector(image):\n",
    "    length, height, channels = image.shape\n",
    "    vector = image.reshape((length * height * channels, 1))\n",
    "    return vector\n",
    "\n",
    "# Example usage:\n",
    "image = np.array([\n",
    "    [[1, 2, 3], [4, 5, 6]],\n",
    "    [[7, 8, 9], [10, 11, 12]],\n",
    "    [[13, 14, 15], [16, 17, 18]]\n",
    "])\n",
    "\n",
    "vector = image_to_vector(image)\n",
    "print(\"Vector shape:\", vector.shape)\n",
    "print(\"Vector:\")\n",
    "print(vector)"
   ]
  },
  {
   "cell_type": "code",
   "execution_count": 24,
   "metadata": {},
   "outputs": [
    {
     "name": "stdout",
     "output_type": "stream",
     "text": [
      "Vector shape: (27, 1)\n",
      "Vector:\n",
      "[[255]\n",
      " [  0]\n",
      " [  0]\n",
      " [  0]\n",
      " [255]\n",
      " [  0]\n",
      " [  0]\n",
      " [  0]\n",
      " [255]\n",
      " [255]\n",
      " [255]\n",
      " [  0]\n",
      " [255]\n",
      " [  0]\n",
      " [255]\n",
      " [  0]\n",
      " [255]\n",
      " [255]\n",
      " [128]\n",
      " [128]\n",
      " [128]\n",
      " [ 64]\n",
      " [ 64]\n",
      " [ 64]\n",
      " [192]\n",
      " [192]\n",
      " [192]]\n"
     ]
    }
   ],
   "source": [
    "#2\n",
    "import numpy as np\n",
    "\n",
    "def image_to_vector(image):\n",
    "    length, height, channels = image.shape\n",
    "    vector = image.reshape((length * height * channels, 1))\n",
    "    return vector\n",
    "\n",
    "# Test with a 3x3x3 array of RGB color values\n",
    "image = np.array([\n",
    "    [[255, 0, 0], [0, 255, 0], [0, 0, 255]],\n",
    "    [[255, 255, 0], [255, 0, 255], [0, 255, 255]],\n",
    "    [[128, 128, 128], [64, 64, 64], [192, 192, 192]]\n",
    "])\n",
    "\n",
    "vector = image_to_vector(image)\n",
    "print(\"Vector shape:\", vector.shape)\n",
    "print(\"Vector:\")\n",
    "print(vector)\n"
   ]
  },
  {
   "cell_type": "markdown",
   "metadata": {},
   "source": [
    "## Part-IV: Write a method normalizeRows()"
   ]
  },
  {
   "cell_type": "code",
   "execution_count": 25,
   "metadata": {},
   "outputs": [
    {
     "name": "stdout",
     "output_type": "stream",
     "text": [
      "Normalized matrix:\n",
      "[[0.26726124 0.53452248 0.80178373]\n",
      " [0.45584231 0.56980288 0.68376346]\n",
      " [0.50257071 0.57436653 0.64616234]]\n"
     ]
    }
   ],
   "source": [
    "import numpy as np\n",
    "\n",
    "def normalizeRows(x):\n",
    "    norms = np.linalg.norm(x, axis=1, keepdims=True)\n",
    "    return x / norms\n",
    "\n",
    "# Example usage:\n",
    "x = np.array([\n",
    "    [1, 2, 3],\n",
    "    [4, 5, 6],\n",
    "    [7, 8, 9]\n",
    "])\n",
    "\n",
    "normalized_x = normalizeRows(x)\n",
    "print(\"Normalized matrix:\")\n",
    "print(normalized_x)"
   ]
  },
  {
   "cell_type": "markdown",
   "metadata": {},
   "source": [
    "## Part-V: Multiplication and Vectorization Operations"
   ]
  },
  {
   "cell_type": "code",
   "execution_count": 27,
   "metadata": {},
   "outputs": [
    {
     "name": "stdout",
     "output_type": "stream",
     "text": [
      "Multiplication: [63  4 10]\n",
      "Dot product: 77\n"
     ]
    }
   ],
   "source": [
    "#1.A\n",
    "import numpy as np\n",
    "\n",
    "x1 = np.array([9, 2, 5])\n",
    "x2 = np.array([7, 2, 2])\n",
    "multiplication = np.multiply(x1, x2)\n",
    "print(\"Multiplication:\", multiplication)\n",
    "dot_product = np.dot(x1, x2)\n",
    "print(\"Dot product:\", dot_product)"
   ]
  },
  {
   "cell_type": "code",
   "execution_count": 28,
   "metadata": {},
   "outputs": [
    {
     "name": "stdout",
     "output_type": "stream",
     "text": [
      "Multiplication: [63  4 10  0  0 63 10  0  0  0 81  4 25  0  0 32 25 21]\n",
      "Dot product: 338\n"
     ]
    }
   ],
   "source": [
    "#B\n",
    "import numpy as np\n",
    "\n",
    "x1 = np.array([9, 2, 5, 0, 0, 7, 5, 0, 0, 0, 9, 2, 5, 0, 0, 4, 5, 7])\n",
    "x2 = np.array([7, 2, 2, 9, 0, 9, 2, 5, 0, 0, 9, 2, 5, 0, 0, 8, 5, 3])\n",
    "multiplication = np.multiply(x1, x2)\n",
    "print(\"Multiplication:\", multiplication)\n",
    "dot_product = np.dot(x1, x2)\n",
    "print(\"Dot product:\", dot_product)\n",
    "\n"
   ]
  },
  {
   "cell_type": "code",
   "execution_count": 29,
   "metadata": {},
   "outputs": [
    {
     "name": "stdout",
     "output_type": "stream",
     "text": [
      "Multiplication Time: 0.3936325\n",
      "Vectorization Time: 0.4050125\n"
     ]
    }
   ],
   "source": [
    "#2\n",
    "import numpy as np\n",
    "import timeit\n",
    "\n",
    "N = 1000000   \n",
    "            \n",
    "x1 = np.random.rand(N)\n",
    "x2 = np.random.rand(N)\n",
    "multiplication_time = timeit.timeit(lambda: np.multiply(x1, x2), number=100)\n",
    "print(\"Multiplication Time:\", multiplication_time)\n",
    "vectorization_time = timeit.timeit(lambda: x1 * x2, number=100)\n",
    "print(\"Vectorization Time:\", vectorization_time)\n"
   ]
  },
  {
   "cell_type": "markdown",
   "metadata": {},
   "source": [
    "## Part-VI: Implement L1 and L2 loss functions"
   ]
  },
  {
   "cell_type": "code",
   "execution_count": 34,
   "metadata": {},
   "outputs": [
    {
     "name": "stdout",
     "output_type": "stream",
     "text": [
      "L1 Loss: 1.1\n"
     ]
    }
   ],
   "source": [
    "import numpy as np\n",
    "def loss_l1(y, ypred):\n",
    "    return np.sum(np.abs(y - ypred))\n",
    "y = np.array([1, 0, 0, 1, 1])\n",
    "ypred = np.array([0.9, 0.2, 0.1, 0.4, 0.9])\n",
    "l1_loss = loss_l1(y, ypred)\n",
    "print(\"L1 Loss:\", l1_loss)\n"
   ]
  },
  {
   "cell_type": "code",
   "execution_count": 35,
   "metadata": {},
   "outputs": [
    {
     "name": "stdout",
     "output_type": "stream",
     "text": [
      "L2 Loss: 0.43\n"
     ]
    }
   ],
   "source": [
    "#2\n",
    "import numpy as np\n",
    "def loss_l2(y, ypred):\n",
    "    return np.sum((y - ypred) ** 2)\n",
    "y = np.array([1, 0, 0, 1, 1])\n",
    "ypred = np.array([0.9, 0.2, 0.1, 0.4, 0.9])\n",
    "l2_loss = loss_l2(y, ypred)\n",
    "print(\"L2 Loss:\", l2_loss)"
   ]
  },
  {
   "cell_type": "code",
   "execution_count": null,
   "metadata": {},
   "outputs": [],
   "source": []
  }
 ],
 "metadata": {
  "kernelspec": {
   "display_name": "Python 3",
   "language": "python",
   "name": "python3"
  },
  "language_info": {
   "codemirror_mode": {
    "name": "ipython",
    "version": 3
   },
   "file_extension": ".py",
   "mimetype": "text/x-python",
   "name": "python",
   "nbconvert_exporter": "python",
   "pygments_lexer": "ipython3",
   "version": "3.6.4"
  }
 },
 "nbformat": 4,
 "nbformat_minor": 2
}
